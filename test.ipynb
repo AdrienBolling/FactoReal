{
 "cells": [
  {
   "cell_type": "code",
   "execution_count": 1,
   "id": "7ef8acfb",
   "metadata": {},
   "outputs": [],
   "source": [
    "from src.envs.FactoReal import FactoReal"
   ]
  },
  {
   "cell_type": "code",
   "execution_count": 2,
   "id": "a238bd32",
   "metadata": {},
   "outputs": [],
   "source": [
    "from src.config.config import DEFAULT_ARGS"
   ]
  },
  {
   "cell_type": "code",
   "execution_count": 3,
   "id": "3aa02641",
   "metadata": {},
   "outputs": [],
   "source": [
    "env = FactoReal(ARGS=DEFAULT_ARGS)"
   ]
  },
  {
   "cell_type": "code",
   "execution_count": 4,
   "id": "1c117374",
   "metadata": {},
   "outputs": [
    {
     "data": {
      "text/plain": [
       "5"
      ]
     },
     "execution_count": 4,
     "metadata": {},
     "output_type": "execute_result"
    }
   ],
   "source": [
    "len(env.step(0))"
   ]
  },
  {
   "cell_type": "code",
   "execution_count": null,
   "id": "ec513a72",
   "metadata": {},
   "outputs": [
    {
     "ename": "AttributeError",
     "evalue": "'FactoReal' object has no attribute 'num_envs'",
     "output_type": "error",
     "traceback": [
      "\u001b[31m---------------------------------------------------------------------------\u001b[39m",
      "\u001b[31mAttributeError\u001b[39m                            Traceback (most recent call last)",
      "\u001b[36mCell\u001b[39m\u001b[36m \u001b[39m\u001b[32mIn[7]\u001b[39m\u001b[32m, line 7\u001b[39m\n\u001b[32m      4\u001b[39m env.reset()\n\u001b[32m      6\u001b[39m \u001b[38;5;66;03m# Normalize the environment\u001b[39;00m\n\u001b[32m----> \u001b[39m\u001b[32m7\u001b[39m vec_env = \u001b[43mVecNormalize\u001b[49m\u001b[43m(\u001b[49m\u001b[43menv\u001b[49m\u001b[43m,\u001b[49m\u001b[43m \u001b[49m\u001b[43mnorm_obs\u001b[49m\u001b[43m=\u001b[49m\u001b[38;5;28;43;01mTrue\u001b[39;49;00m\u001b[43m,\u001b[49m\u001b[43m \u001b[49m\u001b[43mnorm_reward\u001b[49m\u001b[43m=\u001b[49m\u001b[38;5;28;43;01mTrue\u001b[39;49;00m\u001b[43m,\u001b[49m\u001b[43m \u001b[49m\u001b[43mclip_obs\u001b[49m\u001b[43m=\u001b[49m\u001b[32;43m10.\u001b[39;49m\u001b[43m)\u001b[49m\n\u001b[32m      9\u001b[39m policy_kwargs = \u001b[38;5;28mdict\u001b[39m(\n\u001b[32m     10\u001b[39m     net_arch=[\u001b[32m64\u001b[39m, \u001b[32m128\u001b[39m, \u001b[32m96\u001b[39m, \u001b[32m64\u001b[39m, \u001b[32m50\u001b[39m]\n\u001b[32m     11\u001b[39m )\n\u001b[32m     12\u001b[39m model = PPO(\u001b[33m\"\u001b[39m\u001b[33mMlpPolicy\u001b[39m\u001b[33m\"\u001b[39m, vec_env, verbose=\u001b[32m0\u001b[39m, device=\u001b[33m'\u001b[39m\u001b[33mcpu\u001b[39m\u001b[33m'\u001b[39m, policy_kwargs=policy_kwargs)\n",
      "\u001b[36mFile \u001b[39m\u001b[32m~/Library/CloudStorage/OneDrive-UniversityofLuxembourg/VSCode/FactoReal/.venv/lib/python3.13/site-packages/stable_baselines3/common/vec_env/vec_normalize.py:47\u001b[39m, in \u001b[36mVecNormalize.__init__\u001b[39m\u001b[34m(self, venv, training, norm_obs, norm_reward, clip_obs, clip_reward, gamma, epsilon, norm_obs_keys)\u001b[39m\n\u001b[32m     35\u001b[39m \u001b[38;5;28;01mdef\u001b[39;00m\u001b[38;5;250m \u001b[39m\u001b[34m__init__\u001b[39m(\n\u001b[32m     36\u001b[39m     \u001b[38;5;28mself\u001b[39m,\n\u001b[32m     37\u001b[39m     venv: VecEnv,\n\u001b[32m   (...)\u001b[39m\u001b[32m     45\u001b[39m     norm_obs_keys: Optional[\u001b[38;5;28mlist\u001b[39m[\u001b[38;5;28mstr\u001b[39m]] = \u001b[38;5;28;01mNone\u001b[39;00m,\n\u001b[32m     46\u001b[39m ):\n\u001b[32m---> \u001b[39m\u001b[32m47\u001b[39m     \u001b[43mVecEnvWrapper\u001b[49m\u001b[43m.\u001b[49m\u001b[34;43m__init__\u001b[39;49m\u001b[43m(\u001b[49m\u001b[38;5;28;43mself\u001b[39;49m\u001b[43m,\u001b[49m\u001b[43m \u001b[49m\u001b[43mvenv\u001b[49m\u001b[43m)\u001b[49m\n\u001b[32m     49\u001b[39m     \u001b[38;5;28mself\u001b[39m.norm_obs = norm_obs\n\u001b[32m     50\u001b[39m     \u001b[38;5;28mself\u001b[39m.norm_obs_keys = norm_obs_keys\n",
      "\u001b[36mFile \u001b[39m\u001b[32m~/Library/CloudStorage/OneDrive-UniversityofLuxembourg/VSCode/FactoReal/.venv/lib/python3.13/site-packages/stable_baselines3/common/vec_env/base_vec_env.py:378\u001b[39m, in \u001b[36mVecEnvWrapper.__init__\u001b[39m\u001b[34m(self, venv, observation_space, action_space)\u001b[39m\n\u001b[32m    369\u001b[39m \u001b[38;5;28;01mdef\u001b[39;00m\u001b[38;5;250m \u001b[39m\u001b[34m__init__\u001b[39m(\n\u001b[32m    370\u001b[39m     \u001b[38;5;28mself\u001b[39m,\n\u001b[32m    371\u001b[39m     venv: VecEnv,\n\u001b[32m    372\u001b[39m     observation_space: Optional[spaces.Space] = \u001b[38;5;28;01mNone\u001b[39;00m,\n\u001b[32m    373\u001b[39m     action_space: Optional[spaces.Space] = \u001b[38;5;28;01mNone\u001b[39;00m,\n\u001b[32m    374\u001b[39m ):\n\u001b[32m    375\u001b[39m     \u001b[38;5;28mself\u001b[39m.venv = venv\n\u001b[32m    377\u001b[39m     \u001b[38;5;28msuper\u001b[39m().\u001b[34m__init__\u001b[39m(\n\u001b[32m--> \u001b[39m\u001b[32m378\u001b[39m         num_envs=\u001b[43mvenv\u001b[49m\u001b[43m.\u001b[49m\u001b[43mnum_envs\u001b[49m,\n\u001b[32m    379\u001b[39m         observation_space=observation_space \u001b[38;5;129;01mor\u001b[39;00m venv.observation_space,\n\u001b[32m    380\u001b[39m         action_space=action_space \u001b[38;5;129;01mor\u001b[39;00m venv.action_space,\n\u001b[32m    381\u001b[39m     )\n\u001b[32m    382\u001b[39m     \u001b[38;5;28mself\u001b[39m.class_attributes = \u001b[38;5;28mdict\u001b[39m(inspect.getmembers(\u001b[38;5;28mself\u001b[39m.\u001b[34m__class__\u001b[39m))\n",
      "\u001b[31mAttributeError\u001b[39m: 'FactoReal' object has no attribute 'num_envs'"
     ]
    }
   ],
   "source": [
    "from stable_baselines3 import A2C, PPO\n",
    "from gymnasium.wrappers import NormalizeObservation\n",
    "from gymnasium.wrappers import NormalizeReward\n",
    "\n",
    "env.reset()\n",
    "\n",
    "# Normalize the environment\n",
    "env = NormalizeObservation(env)\n",
    "env = NormalizeReward(env)\n",
    "\n",
    "policy_kwargs = dict(\n",
    "    net_arch=[64, 128, 96, 64, 50]\n",
    ")\n",
    "model = PPO(\"MlpPolicy\", vec_env, verbose=0, device='cpu', policy_kwargs=policy_kwargs)\n",
    "model.learn(total_timesteps=100000)\n",
    "\n",
    "\n",
    "obs = vec_env.reset()\n",
    "\n",
    "for i in range(10000):\n",
    "    action, _states = model.predict(obs, deterministic=True)\n",
    "    obs, reward, done, info = vec_env.step(action)\n",
    "    \n",
    "    if i % 1000== 0:\n",
    "        print(vec_env.get_attr(\"env\")[0])\n",
    "    \n",
    "    if done:\n",
    "        obs = vec_env.reset()\n",
    "        break\n",
    "print(f\"Episode finished after {i+1} timesteps\")\n",
    "print(env)\n"
   ]
  }
 ],
 "metadata": {
  "kernelspec": {
   "display_name": ".venv",
   "language": "python",
   "name": "python3"
  },
  "language_info": {
   "codemirror_mode": {
    "name": "ipython",
    "version": 3
   },
   "file_extension": ".py",
   "mimetype": "text/x-python",
   "name": "python",
   "nbconvert_exporter": "python",
   "pygments_lexer": "ipython3",
   "version": "3.13.1"
  }
 },
 "nbformat": 4,
 "nbformat_minor": 5
}
